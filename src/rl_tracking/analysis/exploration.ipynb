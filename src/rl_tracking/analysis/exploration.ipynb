{
 "cells": [
  {
   "cell_type": "code",
   "id": "initial_id",
   "metadata": {
    "collapsed": true,
    "ExecuteTime": {
     "end_time": "2024-09-13T11:03:32.628864Z",
     "start_time": "2024-09-13T11:03:31.639513Z"
    }
   },
   "source": [
    "import pandas as pd \n",
    "import torch \n",
    "import numpy as np"
   ],
   "outputs": [],
   "execution_count": 1
  },
  {
   "metadata": {
    "ExecuteTime": {
     "end_time": "2024-09-13T11:03:33.278588Z",
     "start_time": "2024-09-13T11:03:33.274994Z"
    }
   },
   "cell_type": "code",
   "source": "data_dir = \"/Users/liv/trackML/train_100_events/\"",
   "id": "703c628663745874",
   "outputs": [],
   "execution_count": 2
  },
  {
   "metadata": {
    "ExecuteTime": {
     "end_time": "2024-09-13T11:03:35.198148Z",
     "start_time": "2024-09-13T11:03:34.950585Z"
    }
   },
   "cell_type": "code",
   "source": [
    "from trackml.dataset import load_event\n",
    "\n",
    "hits, cells, particles, truth = load_event(data_dir + 'event000001000')"
   ],
   "id": "4d80e4eab2c7e6c",
   "outputs": [],
   "execution_count": 3
  },
  {
   "metadata": {
    "ExecuteTime": {
     "end_time": "2024-09-13T11:03:36.031251Z",
     "start_time": "2024-09-13T11:03:36.014746Z"
    }
   },
   "cell_type": "code",
   "source": [
    "#hits = hits.merge(cells, on='hit_id')\n",
    "hits = hits.merge(truth, on='hit_id')\n",
    "hits = hits.merge(particles, on='particle_id')"
   ],
   "id": "6fa86801bfb45a2a",
   "outputs": [],
   "execution_count": 4
  },
  {
   "metadata": {},
   "cell_type": "code",
   "outputs": [],
   "execution_count": null,
   "source": "hits",
   "id": "2991fbd272600118"
  },
  {
   "metadata": {
    "ExecuteTime": {
     "end_time": "2024-09-09T12:28:12.022170Z",
     "start_time": "2024-09-09T12:28:11.987110Z"
    }
   },
   "cell_type": "code",
   "source": [
    "hits['r'] = np.sqrt(hits['x']**2 + hits['y']**2)\n",
    "hits[\"pt\"] = np.sqrt(hits.px**2 + hits.py**2)\n",
    "hits = hits.sort_values(['r', 'z'])"
   ],
   "id": "cb4227ad85bd9a5c",
   "outputs": [],
   "execution_count": 80
  },
  {
   "metadata": {
    "ExecuteTime": {
     "end_time": "2024-09-11T14:06:01.692663Z",
     "start_time": "2024-09-11T14:06:01.600312Z"
    }
   },
   "cell_type": "code",
   "source": [
    "hits[['prev_r', 'prev_z']] = hits.groupby('particle_id').shift(1)[['r', 'z']] \n",
    "hits[['prev_prev_r', 'prev_prev_z']] = hits.groupby('particle_id').shift(2)[['r', 'z']] \n",
    "hits = hits.reset_index()\n",
    "hits[['next_r', 'next_z', 'next_x', 'next_y']] = hits.groupby('particle_id').shift(-1)[['r', 'z', 'x', 'y']] \n",
    "seeds = hits.groupby('particle_id').head(3)\n",
    "#hits_no_seeds = hits[~hits['hit_id'].isin(seeds.hit_id)]\n",
    "hits_wo_last= hits.groupby('particle_id').head(-1)"
   ],
   "id": "6501fd2459547dc6",
   "outputs": [],
   "execution_count": 138
  },
  {
   "metadata": {},
   "cell_type": "code",
   "source": [
    "from preprocessing.hit_candidates import process\n",
    "\n"
   ],
   "id": "4ec1af169d538966",
   "outputs": [],
   "execution_count": null
  },
  {
   "metadata": {
    "ExecuteTime": {
     "end_time": "2024-09-11T14:15:53.204854Z",
     "start_time": "2024-09-11T14:15:52.851382Z"
    }
   },
   "cell_type": "code",
   "source": [
    "from sklearn.neighbors import NearestNeighbors\n",
    "n_comp_hits = 4\n",
    "\n",
    "nbrs = NearestNeighbors(n_neighbors=n_comp_hits+1, algorithm='auto').fit(hits_wo_last[[\"next_x\", \"next_y\", \"next_z\"]])  # Add 1 to exclude self\n",
    "distances, indices = nbrs.kneighbors(hits_wo_last[[\"next_x\", \"next_y\", \"next_z\"]])\n",
    "correct_hit = indices[:, 0]\n",
    "# Remove the first column (self) from the results\n",
    "neighbor_r = hits_wo_last.iloc[indices.flatten()]['r'].values.reshape(indices.shape)\n",
    "neighbor_z = hits_wo_last.iloc[indices.flatten()]['z'].values.reshape(indices.shape)\n",
    "sorted_order = np.lexsort((neighbor_z, neighbor_r))\n",
    "sorted_closest_indices = np.take_along_axis(indices, sorted_order, axis=1)\n",
    "\n",
    "positions_in_sorted = np.argwhere(sorted_closest_indices == correct_hit[:, None])\n"
   ],
   "id": "e0694acd69378131",
   "outputs": [],
   "execution_count": 147
  },
  {
   "metadata": {
    "ExecuteTime": {
     "end_time": "2024-09-11T14:19:17.186785Z",
     "start_time": "2024-09-11T14:19:17.179369Z"
    }
   },
   "cell_type": "code",
   "source": "np.unique(positions_in_sorted[:,1], return_counts=True)",
   "id": "b4184257907a924e",
   "outputs": [
    {
     "data": {
      "text/plain": [
       "(array([0, 1, 2, 3, 4]), array([14917, 20420, 22416, 19329, 15658]))"
      ]
     },
     "execution_count": 157,
     "metadata": {},
     "output_type": "execute_result"
    }
   ],
   "execution_count": 157
  },
  {
   "metadata": {
    "ExecuteTime": {
     "end_time": "2024-09-11T14:19:08.981698Z",
     "start_time": "2024-09-11T14:19:08.975774Z"
    }
   },
   "cell_type": "code",
   "source": "positions_in_sorted[:,1]",
   "id": "ae916015397ca4c",
   "outputs": [
    {
     "data": {
      "text/plain": [
       "array([0, 0, 0, ..., 4, 4, 4])"
      ]
     },
     "execution_count": 156,
     "metadata": {},
     "output_type": "execute_result"
    }
   ],
   "execution_count": 156
  },
  {
   "metadata": {},
   "cell_type": "code",
   "outputs": [],
   "execution_count": null,
   "source": "np.unique(array, return_counts=True)",
   "id": "ad3a1b8faacad445"
  },
  {
   "metadata": {},
   "cell_type": "code",
   "outputs": [],
   "execution_count": null,
   "source": "np.where(correct_hit )",
   "id": "2f5ddec5e0e78029"
  },
  {
   "metadata": {
    "ExecuteTime": {
     "end_time": "2024-09-11T14:13:16.779433Z",
     "start_time": "2024-09-11T14:13:16.773264Z"
    }
   },
   "cell_type": "code",
   "source": "sorted_closest_indices",
   "id": "f9ec721df537d45",
   "outputs": [
    {
     "data": {
      "text/plain": [
       "array([[    0,    69,    80,   198,  2422],\n",
       "       [    1,  1285,  2764,  8961,  9546],\n",
       "       [    2,   258,   376,   413,  1254],\n",
       "       ...,\n",
       "       [89017, 90850, 92471, 92641, 92737],\n",
       "       [90164, 90611, 92503, 92565, 92738],\n",
       "       [88984, 90323, 90530, 92627, 92739]])"
      ]
     },
     "execution_count": 146,
     "metadata": {},
     "output_type": "execute_result"
    }
   ],
   "execution_count": 146
  },
  {
   "metadata": {
    "ExecuteTime": {
     "end_time": "2024-09-11T14:03:05.256898Z",
     "start_time": "2024-09-11T14:03:05.248498Z"
    }
   },
   "cell_type": "code",
   "source": "indices",
   "id": "cb1fb608568315c1",
   "outputs": [
    {
     "data": {
      "text/plain": [
       "array([[    0,  2422,    69,    80,   198,   337],\n",
       "       [    1,  2764,  1285,  9546,  8961,   158],\n",
       "       [    2,  1254,   413,   376,   258,  8012],\n",
       "       ...,\n",
       "       [92737, 92641, 92471, 90850, 89017, 92448],\n",
       "       [92738, 92503, 90164, 90611, 92565, 89390],\n",
       "       [92739, 90530, 92627, 88984, 90323, 92680]])"
      ]
     },
     "execution_count": 137,
     "metadata": {},
     "output_type": "execute_result"
    }
   ],
   "execution_count": 137
  },
  {
   "metadata": {},
   "cell_type": "code",
   "outputs": [],
   "execution_count": null,
   "source": "sorted_closest_indices",
   "id": "c2885186f9ecaf18"
  },
  {
   "metadata": {
    "ExecuteTime": {
     "end_time": "2024-09-11T13:59:59.877437Z",
     "start_time": "2024-09-11T13:59:59.872598Z"
    }
   },
   "cell_type": "code",
   "source": "hits_wo_last.next_hit_id",
   "id": "4a180d4cadf0ef76",
   "outputs": [
    {
     "data": {
      "text/plain": [
       "13479      14029.0\n",
       "45123      48253.0\n",
       "48029      51209.0\n",
       "49751      55724.0\n",
       "49331      52565.0\n",
       "            ...   \n",
       "99922     115556.0\n",
       "100791    117832.0\n",
       "99859     115450.0\n",
       "99265     113461.0\n",
       "99298     114048.0\n",
       "Name: next_hit_id, Length: 92740, dtype: float64"
      ]
     },
     "execution_count": 134,
     "metadata": {},
     "output_type": "execute_result"
    }
   ],
   "execution_count": 134
  },
  {
   "metadata": {
    "ExecuteTime": {
     "end_time": "2024-09-11T14:02:04.797885Z",
     "start_time": "2024-09-11T14:02:04.792081Z"
    }
   },
   "cell_type": "code",
   "source": "sorted_closest_indices",
   "id": "c93b1218f57d76c4",
   "outputs": [
    {
     "data": {
      "text/plain": [
       "array([[    0,    69,    80,   198,   337,  2422],\n",
       "       [    1,   158,  1285,  2764,  8961,  9546],\n",
       "       [    2,   258,   376,   413,  1254,  8012],\n",
       "       ...,\n",
       "       [89017, 90850, 92448, 92471, 92641, 92737],\n",
       "       [89390, 90164, 90611, 92503, 92565, 92738],\n",
       "       [88984, 90323, 90530, 92627, 92680, 92739]])"
      ]
     },
     "execution_count": 136,
     "metadata": {},
     "output_type": "execute_result"
    }
   ],
   "execution_count": 136
  },
  {
   "metadata": {
    "ExecuteTime": {
     "end_time": "2024-09-11T13:53:27.523110Z",
     "start_time": "2024-09-11T13:53:27.481764Z"
    }
   },
   "cell_type": "code",
   "source": "hits_no_seeds = hits_wo_next[~hits_wo_next['hit_id'].isin(seeds.hit_id)]\n",
   "id": "9eea92217a71b76c",
   "outputs": [],
   "execution_count": 119
  },
  {
   "metadata": {
    "ExecuteTime": {
     "end_time": "2024-09-09T14:09:43.489376Z",
     "start_time": "2024-09-09T14:09:43.476219Z"
    }
   },
   "cell_type": "code",
   "source": [
    "features = [\"r\", \"z\", \"prev_z\", \"prev_r\"]\n",
    "\n",
    "selected_cols = [x for x in hits.columns if x in features or x.startswith('comp_')]\n",
    "hits_no_seeds[selected_cols]"
   ],
   "id": "dfcdd6ecaf986ac4",
   "outputs": [
    {
     "data": {
      "text/plain": [
       "                  z            r       prev_r      prev_z     comp_1_r  \\\n",
       "5023   -1097.500000    30.647999    30.459892 -822.500000    30.333883   \n",
       "23113     69.967300    33.140228    32.706966   69.721603    32.652645   \n",
       "18869     -0.828129    33.156097    32.645306   -0.803123    33.037563   \n",
       "20141     -0.771877    33.193848    32.675339   -0.803123    72.476318   \n",
       "23444     71.497299    33.244324    32.725914   70.484596    32.736710   \n",
       "...             ...          ...          ...         ...          ...   \n",
       "99922    -54.400002  1021.834167  1018.811401  -48.599998  1018.811401   \n",
       "100791   975.599976  1021.915405  1016.201660  975.599976  1016.201660   \n",
       "99859    -54.400002  1022.018311  1018.961365  -48.599998  1018.961365   \n",
       "99265   -769.599976  1022.079041  1016.648682 -758.799988  1016.648682   \n",
       "99298   -672.400024  1022.146606  1018.830872 -666.599976   822.116150   \n",
       "\n",
       "          comp_1_z     comp_2_r    comp_2_z    comp_3_r    comp_3_z  \\\n",
       "5023   -822.500000    31.164457 -822.500000   35.312302 -957.500000   \n",
       "23113    41.786201    32.299473   40.603901   32.562489   39.892601   \n",
       "18869    -0.715626    33.608986   -3.640630   71.566742   -3.753120   \n",
       "20141     0.096874    33.103096   -1.844010   33.273102    0.814899   \n",
       "23444    64.805702    72.216354  139.218994   71.620033  135.934006   \n",
       "...            ...          ...         ...         ...         ...   \n",
       "99922   -48.599998   819.967773   37.799999  822.536133  -27.000000   \n",
       "100791  975.599976   820.140259  758.799988  816.484741  704.799988   \n",
       "99859   -48.599998  1016.290344  -54.400002  823.890259  -37.799999   \n",
       "99265  -758.799988   820.887268 -569.400024  822.404663 -645.000000   \n",
       "99298  -542.000000  1018.830872 -666.599976  816.968567 -531.200012   \n",
       "\n",
       "           comp_4_r    comp_4_z     comp_5_r    comp_5_z  \n",
       "5023      32.359543 -822.500000    31.679310 -822.500000  \n",
       "23113     71.569366   84.506699    31.498953   36.527199  \n",
       "18869     34.203476   -1.615630    33.946068   -5.220540  \n",
       "20141     33.229130   -3.471870    71.147949    3.190620  \n",
       "23444     32.585632   61.316399    32.415073  101.128998  \n",
       "...             ...         ...          ...         ...  \n",
       "99922    815.357422  -97.599998   819.724304  -37.799999  \n",
       "100791   820.009094  786.200012   823.840576  655.799988  \n",
       "99859    817.166016  -76.000000  1015.986084  -97.599998  \n",
       "99265   1018.285339 -807.799988   818.612671 -758.799988  \n",
       "99298    821.428833 -531.200012  1019.431702 -612.599976  \n",
       "\n",
       "[64004 rows x 14 columns]"
      ],
      "text/html": [
       "<div>\n",
       "<style scoped>\n",
       "    .dataframe tbody tr th:only-of-type {\n",
       "        vertical-align: middle;\n",
       "    }\n",
       "\n",
       "    .dataframe tbody tr th {\n",
       "        vertical-align: top;\n",
       "    }\n",
       "\n",
       "    .dataframe thead th {\n",
       "        text-align: right;\n",
       "    }\n",
       "</style>\n",
       "<table border=\"1\" class=\"dataframe\">\n",
       "  <thead>\n",
       "    <tr style=\"text-align: right;\">\n",
       "      <th></th>\n",
       "      <th>z</th>\n",
       "      <th>r</th>\n",
       "      <th>prev_r</th>\n",
       "      <th>prev_z</th>\n",
       "      <th>comp_1_r</th>\n",
       "      <th>comp_1_z</th>\n",
       "      <th>comp_2_r</th>\n",
       "      <th>comp_2_z</th>\n",
       "      <th>comp_3_r</th>\n",
       "      <th>comp_3_z</th>\n",
       "      <th>comp_4_r</th>\n",
       "      <th>comp_4_z</th>\n",
       "      <th>comp_5_r</th>\n",
       "      <th>comp_5_z</th>\n",
       "    </tr>\n",
       "  </thead>\n",
       "  <tbody>\n",
       "    <tr>\n",
       "      <th>5023</th>\n",
       "      <td>-1097.500000</td>\n",
       "      <td>30.647999</td>\n",
       "      <td>30.459892</td>\n",
       "      <td>-822.500000</td>\n",
       "      <td>30.333883</td>\n",
       "      <td>-822.500000</td>\n",
       "      <td>31.164457</td>\n",
       "      <td>-822.500000</td>\n",
       "      <td>35.312302</td>\n",
       "      <td>-957.500000</td>\n",
       "      <td>32.359543</td>\n",
       "      <td>-822.500000</td>\n",
       "      <td>31.679310</td>\n",
       "      <td>-822.500000</td>\n",
       "    </tr>\n",
       "    <tr>\n",
       "      <th>23113</th>\n",
       "      <td>69.967300</td>\n",
       "      <td>33.140228</td>\n",
       "      <td>32.706966</td>\n",
       "      <td>69.721603</td>\n",
       "      <td>32.652645</td>\n",
       "      <td>41.786201</td>\n",
       "      <td>32.299473</td>\n",
       "      <td>40.603901</td>\n",
       "      <td>32.562489</td>\n",
       "      <td>39.892601</td>\n",
       "      <td>71.569366</td>\n",
       "      <td>84.506699</td>\n",
       "      <td>31.498953</td>\n",
       "      <td>36.527199</td>\n",
       "    </tr>\n",
       "    <tr>\n",
       "      <th>18869</th>\n",
       "      <td>-0.828129</td>\n",
       "      <td>33.156097</td>\n",
       "      <td>32.645306</td>\n",
       "      <td>-0.803123</td>\n",
       "      <td>33.037563</td>\n",
       "      <td>-0.715626</td>\n",
       "      <td>33.608986</td>\n",
       "      <td>-3.640630</td>\n",
       "      <td>71.566742</td>\n",
       "      <td>-3.753120</td>\n",
       "      <td>34.203476</td>\n",
       "      <td>-1.615630</td>\n",
       "      <td>33.946068</td>\n",
       "      <td>-5.220540</td>\n",
       "    </tr>\n",
       "    <tr>\n",
       "      <th>20141</th>\n",
       "      <td>-0.771877</td>\n",
       "      <td>33.193848</td>\n",
       "      <td>32.675339</td>\n",
       "      <td>-0.803123</td>\n",
       "      <td>72.476318</td>\n",
       "      <td>0.096874</td>\n",
       "      <td>33.103096</td>\n",
       "      <td>-1.844010</td>\n",
       "      <td>33.273102</td>\n",
       "      <td>0.814899</td>\n",
       "      <td>33.229130</td>\n",
       "      <td>-3.471870</td>\n",
       "      <td>71.147949</td>\n",
       "      <td>3.190620</td>\n",
       "    </tr>\n",
       "    <tr>\n",
       "      <th>23444</th>\n",
       "      <td>71.497299</td>\n",
       "      <td>33.244324</td>\n",
       "      <td>32.725914</td>\n",
       "      <td>70.484596</td>\n",
       "      <td>32.736710</td>\n",
       "      <td>64.805702</td>\n",
       "      <td>72.216354</td>\n",
       "      <td>139.218994</td>\n",
       "      <td>71.620033</td>\n",
       "      <td>135.934006</td>\n",
       "      <td>32.585632</td>\n",
       "      <td>61.316399</td>\n",
       "      <td>32.415073</td>\n",
       "      <td>101.128998</td>\n",
       "    </tr>\n",
       "    <tr>\n",
       "      <th>...</th>\n",
       "      <td>...</td>\n",
       "      <td>...</td>\n",
       "      <td>...</td>\n",
       "      <td>...</td>\n",
       "      <td>...</td>\n",
       "      <td>...</td>\n",
       "      <td>...</td>\n",
       "      <td>...</td>\n",
       "      <td>...</td>\n",
       "      <td>...</td>\n",
       "      <td>...</td>\n",
       "      <td>...</td>\n",
       "      <td>...</td>\n",
       "      <td>...</td>\n",
       "    </tr>\n",
       "    <tr>\n",
       "      <th>99922</th>\n",
       "      <td>-54.400002</td>\n",
       "      <td>1021.834167</td>\n",
       "      <td>1018.811401</td>\n",
       "      <td>-48.599998</td>\n",
       "      <td>1018.811401</td>\n",
       "      <td>-48.599998</td>\n",
       "      <td>819.967773</td>\n",
       "      <td>37.799999</td>\n",
       "      <td>822.536133</td>\n",
       "      <td>-27.000000</td>\n",
       "      <td>815.357422</td>\n",
       "      <td>-97.599998</td>\n",
       "      <td>819.724304</td>\n",
       "      <td>-37.799999</td>\n",
       "    </tr>\n",
       "    <tr>\n",
       "      <th>100791</th>\n",
       "      <td>975.599976</td>\n",
       "      <td>1021.915405</td>\n",
       "      <td>1016.201660</td>\n",
       "      <td>975.599976</td>\n",
       "      <td>1016.201660</td>\n",
       "      <td>975.599976</td>\n",
       "      <td>820.140259</td>\n",
       "      <td>758.799988</td>\n",
       "      <td>816.484741</td>\n",
       "      <td>704.799988</td>\n",
       "      <td>820.009094</td>\n",
       "      <td>786.200012</td>\n",
       "      <td>823.840576</td>\n",
       "      <td>655.799988</td>\n",
       "    </tr>\n",
       "    <tr>\n",
       "      <th>99859</th>\n",
       "      <td>-54.400002</td>\n",
       "      <td>1022.018311</td>\n",
       "      <td>1018.961365</td>\n",
       "      <td>-48.599998</td>\n",
       "      <td>1018.961365</td>\n",
       "      <td>-48.599998</td>\n",
       "      <td>1016.290344</td>\n",
       "      <td>-54.400002</td>\n",
       "      <td>823.890259</td>\n",
       "      <td>-37.799999</td>\n",
       "      <td>817.166016</td>\n",
       "      <td>-76.000000</td>\n",
       "      <td>1015.986084</td>\n",
       "      <td>-97.599998</td>\n",
       "    </tr>\n",
       "    <tr>\n",
       "      <th>99265</th>\n",
       "      <td>-769.599976</td>\n",
       "      <td>1022.079041</td>\n",
       "      <td>1016.648682</td>\n",
       "      <td>-758.799988</td>\n",
       "      <td>1016.648682</td>\n",
       "      <td>-758.799988</td>\n",
       "      <td>820.887268</td>\n",
       "      <td>-569.400024</td>\n",
       "      <td>822.404663</td>\n",
       "      <td>-645.000000</td>\n",
       "      <td>1018.285339</td>\n",
       "      <td>-807.799988</td>\n",
       "      <td>818.612671</td>\n",
       "      <td>-758.799988</td>\n",
       "    </tr>\n",
       "    <tr>\n",
       "      <th>99298</th>\n",
       "      <td>-672.400024</td>\n",
       "      <td>1022.146606</td>\n",
       "      <td>1018.830872</td>\n",
       "      <td>-666.599976</td>\n",
       "      <td>822.116150</td>\n",
       "      <td>-542.000000</td>\n",
       "      <td>1018.830872</td>\n",
       "      <td>-666.599976</td>\n",
       "      <td>816.968567</td>\n",
       "      <td>-531.200012</td>\n",
       "      <td>821.428833</td>\n",
       "      <td>-531.200012</td>\n",
       "      <td>1019.431702</td>\n",
       "      <td>-612.599976</td>\n",
       "    </tr>\n",
       "  </tbody>\n",
       "</table>\n",
       "<p>64004 rows × 14 columns</p>\n",
       "</div>"
      ]
     },
     "execution_count": 109,
     "metadata": {},
     "output_type": "execute_result"
    }
   ],
   "execution_count": 109
  },
  {
   "metadata": {},
   "cell_type": "code",
   "outputs": [],
   "execution_count": null,
   "source": "",
   "id": "7b8d16df310b5f25"
  }
 ],
 "metadata": {
  "kernelspec": {
   "display_name": "Python 3",
   "language": "python",
   "name": "python3"
  },
  "language_info": {
   "codemirror_mode": {
    "name": "ipython",
    "version": 2
   },
   "file_extension": ".py",
   "mimetype": "text/x-python",
   "name": "python",
   "nbconvert_exporter": "python",
   "pygments_lexer": "ipython2",
   "version": "2.7.6"
  }
 },
 "nbformat": 4,
 "nbformat_minor": 5
}
